import numpy as np
import pandas as pd
import yfinance as yf
import seaborn as sns
import matplotlib.pyplot as plt

%matplotlib inline

stocks = input("Enter the code of the stock:- ")
data = yf.download(stocks, "2008-01-01", "2021-01-18", auto_adjust=True)

# Basic info
print(data.head())
print(data.shape)
print(data.info())
print(data.describe())

# Plot closing prices
data.Close.plot(figsize=(10, 7), color='r')
plt.ylabel(f"{stocks} Prices")
plt.title(f"{stocks} Price Series")
plt.show()

# Replacing deprecated distplot with histplot
sns.histplot(data["Close"], kde=True)
plt.title("Distribution of Close Prices")
plt.show()

sns.histplot(data["Open"], kde=True)
plt.title("Distribution of Open Prices")
plt.show()

sns.histplot(data["High"], kde=True)
plt.title("Distribution of High Prices")
plt.show()
X = data.drop("Close", axis=1)
y = data["Close"]

from sklearn.model_selection import train_test_split

X_train, X_test, y_train, y_test  = train_test_split(X,y,test_size=0.2, random_state=0)
print(X_train.shape)
print(X_test.shape)
print(y_train.shape)
print(y_test.shape)
from sklearn.linear_model import LinearRegression
lr = LinearRegression()
lr.fit(X_train, y_train)
pred1 = lr.predict(X_test)
from sklearn.metrics import mean_squared_error, r2_score


def calculate_metrics(y_test, y_pred):
    '''
    y_test:- ground truth
    y_pred:- model predict
    '''
    mse = mean_squared_error(y_test, y_pred)
    rmse = np.sqrt(mse)
    r2_scors = r2_score(y_test, y_pred)

    print("MSE:- ", mse)
    print("RMSE:- ", rmse)
    print("R2_score:- ", r2_scors)

calculate_metrics(y_test, pred1)
from sklearn.preprocessing import StandardScaler

scaler = StandardScaler()
X_train_scaled = scaler.fit_transform(X_train)
X_test_scaled = scaler.transform(X_test)
from sklearn.linear_model import Lasso, Ridge

la = Lasso(alpha=1.0, max_iter=5000).fit(X_train_scaled, y_train)
ri = Ridge(alpha=1.0).fit(X_train_scaled, y_train)

la_p = la.predict(X_test_scaled)
ri_p = ri.predict(X_test_scaled)
from sklearn.preprocessing import StandardScaler

scaler = StandardScaler()
X_train_scaled = scaler.fit_transform(X_train)
X_test_scaled = scaler.transform(X_test)
la = Lasso().fit(X_train_scaled, y_train)
ri = Ridge().fit(X_train_scaled, y_train)
la_p = la.predict(X_test_scaled)
ri_p = ri.predict(X_test_scaled)
calculate_metrics(y_test, la_p)
calculate_metrics(y_test, ri_p)
from sklearn.svm import SVR
from sklearn.model_selection import GridSearchCV

param_grid = {
    'C': [0.1, 1, 10, 100, 1000],
    'gamma': [1, 0.1, 0.01, 0.001, 0.0001],
    'kernel': ['rbf']
}

grid = GridSearchCV(SVR(), param_grid, refit=True, verbose=2, cv=5)
grid.fit(X_train, y_train.values.ravel())  # ✅ fixed here
from sklearn.svm import SVR
from sklearn.model_selection import GridSearchCV

svr = SVR(C=10, gamma=0.01, kernel='rbf')
svr.fit(X_train, y_train.squeeze())
svr_pred = svr.predict(X_test)
from sklearn.linear_model import Ridge
import numpy as np

# Dummy training data
X = np.array([[100, 105, 98, 1200000],
              [110, 115, 109, 1400000],
              [90, 95, 85, 1600000]])
y = np.array([103, 112, 91])

# Train the Ridge Regression model
ri = Ridge()
ri.fit(X, y)

import joblib

# Save model to file
joblib.dump(ri, 'model.pkl')
